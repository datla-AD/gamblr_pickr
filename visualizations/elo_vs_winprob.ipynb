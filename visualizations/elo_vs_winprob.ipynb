import numpy as np
import matplotlib.pyplot as plt

def win_prob(diff):
    return 1 / (1 + 10 ** (diff / 400))

diffs = np.linspace(-600, 600, 200)
probs = [win_prob(d) for d in diffs]

plt.figure(figsize=(8,5))
plt.plot(diffs, probs, color="orange", linewidth=2)
plt.axvline(0, color="gray", linestyle="--")
plt.xlabel("Rating Difference (A - B)")
plt.ylabel("Win Probability of A")
plt.title("ELO Expected Win Probability Curve")
plt.grid(True, alpha=0.3)
plt.show()


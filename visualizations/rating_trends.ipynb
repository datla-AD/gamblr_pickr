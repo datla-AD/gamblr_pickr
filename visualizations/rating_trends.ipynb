# rating_trends.ipynb
import pandas as pd
import matplotlib.pyplot as plt
from pathlib import Path

data = pd.read_csv(Path(__file__).parent / "sample_ratings.csv")

# Sort fighters by rating for aesthetics
data = data.sort_values("rating", ascending=False)

plt.figure(figsize=(8,5))
plt.barh(data["fighter"], data["rating"], color="steelblue")
plt.xlabel("ELO Rating")
plt.ylabel("Fighter")
plt.title("Sample Fighter ELO Ratings")
plt.gca().invert_yaxis()
plt.tight_layout()
plt.show()
